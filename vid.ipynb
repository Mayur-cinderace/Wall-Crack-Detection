{
 "cells": [
  {
   "cell_type": "code",
   "execution_count": null,
   "id": "9dd49721",
   "metadata": {},
   "outputs": [],
   "source": [
    "import cv2\n",
    "\n",
    "url = \"http://192.168.1.29:8080/video\"  \n",
    "\n",
    "cap = cv2.VideoCapture(url)\n",
    "\n",
    "frame_width, frame_height = 640, 480\n",
    "fourcc = cv2.VideoWriter_fourcc(*'XVID')\n",
    "out = cv2.VideoWriter('crack_detection_output.avi', fourcc, 20.0, (frame_width, frame_height))\n",
    "\n",
    "while True:\n",
    "    ret, frame = cap.read()\n",
    "    if not ret:\n",
    "        print(\"Failed to grab frame\")\n",
    "        break\n",
    "\n",
    "    frame = cv2.resize(frame, (frame_width, frame_height))\n",
    "\n",
    "    gray = cv2.cvtColor(frame, cv2.COLOR_BGR2GRAY)\n",
    "    blurred = cv2.GaussianBlur(gray, (5, 5), 0)\n",
    "    edges = cv2.Canny(blurred, 50, 150)\n",
    "\n",
    "    crack_highlight = frame.copy()\n",
    "    crack_highlight[edges > 0] = [0, 0, 255] \n",
    "\n",
    "    cv2.imshow(\"Live Crack Detection\", crack_highlight)\n",
    "\n",
    "    out.write(crack_highlight)\n",
    "\n",
    "    if cv2.waitKey(1) & 0xFF == ord('q'):\n",
    "        break\n",
    "\n",
    "cap.release()\n",
    "out.release()\n",
    "cv2.destroyAllWindows()\n"
   ]
  }
 ],
 "metadata": {
  "kernelspec": {
   "display_name": "Python 3",
   "language": "python",
   "name": "python3"
  },
  "language_info": {
   "codemirror_mode": {
    "name": "ipython",
    "version": 3
   },
   "file_extension": ".py",
   "mimetype": "text/x-python",
   "name": "python",
   "nbconvert_exporter": "python",
   "pygments_lexer": "ipython3",
   "version": "3.12.2"
  }
 },
 "nbformat": 4,
 "nbformat_minor": 5
}
